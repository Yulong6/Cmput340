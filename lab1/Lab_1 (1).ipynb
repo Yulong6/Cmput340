{
  "nbformat": 4,
  "nbformat_minor": 0,
  "metadata": {
    "kernelspec": {
      "display_name": "Python 3",
      "language": "python",
      "name": "python3"
    },
    "language_info": {
      "codemirror_mode": {
        "name": "ipython",
        "version": 3
      },
      "file_extension": ".py",
      "mimetype": "text/x-python",
      "name": "python",
      "nbconvert_exporter": "python",
      "pygments_lexer": "ipython3",
      "version": "3.7.2"
    },
    "colab": {
      "name": "Lab 1.ipynb",
      "provenance": [],
      "collapsed_sections": []
    }
  },
  "cells": [
    {
      "cell_type": "markdown",
      "metadata": {
        "id": "RDk72NhSSNO7",
        "colab_type": "text"
      },
      "source": [
        "<center><h2>Lab 1 - CMPUT 340</h2></center>\n",
        "<b>Due date:</b> September, 10 at 11:59 pm (submit on eClass). \n",
        "\n",
        "In this lab you will learn the basics of Python and Numpy. You should start by reading and executing the code snipets in the following <a href=\"https://colab.research.google.com/github/cs231n/cs231n.github.io/blob/master/python-colab.ipynb#scrollTo=0vJLt3JRL9eR\">Colab</a>, which was authored by Kevin Zakka, Justin Johnson, Volodymmyr Kuleshov, and Issac Caswell. \n",
        "\n",
        "Once you have finished reading and executing the Colab snipets, please read the snipets below and complete the code where needed. After solving the problems and executing your code, please export this Notebook as an html by clicking File -> Downdload as -> HTML (.html) and submit your file to eClass. "
      ]
    },
    {
      "cell_type": "markdown",
      "metadata": {
        "id": "VShn-rzrSNO-",
        "colab_type": "text"
      },
      "source": [
        "The snipet below creates matrices, A and B, with shape 3, 2 and 2, 4, respectively. The values of the matrices are chosen at random from the interval [0, 1). "
      ]
    },
    {
      "cell_type": "code",
      "metadata": {
        "id": "SVCM0V0nSNPA",
        "colab_type": "code",
        "colab": {
          "base_uri": "https://localhost:8080/",
          "height": 143
        },
        "outputId": "ab023ecf-28ca-4c6e-f9cd-8cbde25f8065"
      },
      "source": [
        "import numpy as np\n",
        "import time\n",
        "\n",
        "A = np.random.rand(3, 2)\n",
        "B = np.random.rand(2, 4)\n",
        "\n",
        "print('A: ')\n",
        "print(A)\n",
        "print('B: ')\n",
        "print(B)"
      ],
      "execution_count": null,
      "outputs": [
        {
          "output_type": "stream",
          "text": [
            "A: \n",
            "[[0.61510573 0.61212219]\n",
            " [0.57459285 0.59264645]\n",
            " [0.7947418  0.8370146 ]]\n",
            "B: \n",
            "[[0.49544294 0.87215375 0.3836365  0.93096346]\n",
            " [0.65949989 0.73624613 0.1841654  0.47646708]]\n"
          ],
          "name": "stdout"
        }
      ]
    },
    {
      "cell_type": "markdown",
      "metadata": {
        "id": "pRhS1co-SNPN",
        "colab_type": "text"
      },
      "source": [
        "The following snipet will perform the multiplication of A and B using Numpy's standard implementation. "
      ]
    },
    {
      "cell_type": "code",
      "metadata": {
        "id": "qJidfXqFSNPQ",
        "colab_type": "code",
        "colab": {
          "base_uri": "https://localhost:8080/",
          "height": 107
        },
        "outputId": "5f2d8e06-69aa-4aef-84a7-4996da45759a"
      },
      "source": [
        "C = A.dot(B)\n",
        "print('C = A x B')\n",
        "print('C = ')\n",
        "print(C)"
      ],
      "execution_count": null,
      "outputs": [
        {
          "output_type": "stream",
          "text": [
            "C = A x B\n",
            "C = \n",
            "[[0.70844431 0.98713936 0.34870874 0.86429703]\n",
            " [0.67552824 0.93746696 0.32957976 0.81730147]\n",
            " [0.94576025 1.30938579 0.45904109 1.13868547]]\n"
          ],
          "name": "stdout"
        }
      ]
    },
    {
      "cell_type": "markdown",
      "metadata": {
        "id": "_sv6z0_tSNPe",
        "colab_type": "text"
      },
      "source": [
        "Finish the implemention of the function multiply_matrices below. \n",
        "\n",
        "Certify that the matrix returned by your function matches the result of the operation A.dot(B) from the cell above. "
      ]
    },
    {
      "cell_type": "code",
      "metadata": {
        "id": "VqcmT7XgSNPg",
        "colab_type": "code",
        "colab": {
          "base_uri": "https://localhost:8080/",
          "height": 107
        },
        "outputId": "2db69c30-9a29-472e-98cf-c53043934541"
      },
      "source": [
        "def multiply_matrices(A, B):   #matrixA: 3*2   B:2*4  A.shape[0]=3 B.shape[1]=4 B.shape[0]=2\n",
        "    C = np.zeros((A.shape[0], B.shape[1]))\n",
        "    for i in range(A.shape[0]):\n",
        "        for j in range(B.shape[1]):\n",
        "            for k in range(B.shape[0]):\n",
        "              C[i][j] += A[i][k]*B[k][j]\n",
        "                # write your code here\n",
        "    return C\n",
        "\n",
        "C = multiply_matrices(A, B)\n",
        "print('C = A x B')\n",
        "print('C = ')\n",
        "print(C)"
      ],
      "execution_count": null,
      "outputs": [
        {
          "output_type": "stream",
          "text": [
            "C = A x B\n",
            "C = \n",
            "[[0.70844431 0.98713936 0.34870874 0.86429703]\n",
            " [0.67552824 0.93746696 0.32957976 0.81730147]\n",
            " [0.94576025 1.30938579 0.45904109 1.13868547]]\n"
          ],
          "name": "stdout"
        }
      ]
    },
    {
      "cell_type": "markdown",
      "metadata": {
        "id": "w_J9KzquSNPs",
        "colab_type": "text"
      },
      "source": [
        "Next, implement a function called <b>multiply_matrices_vectorized</b> that also receives matrices A and B as input and returns C = A x B. Similarly to function multiply_matrices, you can assume that the multiplication is possible for A and B. \n",
        "\n",
        "In contrast with function multiply_matrices, your implementation of multiply_matrices_vectorized should contain only two 'for' loops; the innermost 'for' should be replaced by a vectorized implementation where you will use slicing, the operator * for two vectors, and the function sum from Numpy."
      ]
    },
    {
      "cell_type": "code",
      "metadata": {
        "scrolled": false,
        "id": "eRi5yw8YSNPu",
        "colab_type": "code",
        "colab": {
          "base_uri": "https://localhost:8080/",
          "height": 107
        },
        "outputId": "16ac3489-2a3c-4264-e092-5fa9878a6cbc"
      },
      "source": [
        "def multiply_matrices_vectorized(A, B):\n",
        "    C = np.zeros((A.shape[0], B.shape[1]))\n",
        "    # implement here your vectorized solution\n",
        "    for i in range(A.shape[0]):\n",
        "      for j in range(B.shape[1]):\n",
        "        C[i][j]=np.sum(A[i,:].dot(B[:,j]))\n",
        "    return C\n",
        "\n",
        "C = multiply_matrices_vectorized(A, B)\n",
        "print('C = A x B')\n",
        "print('C = ')\n",
        "print(C)"
      ],
      "execution_count": null,
      "outputs": [
        {
          "output_type": "stream",
          "text": [
            "C = A x B\n",
            "C = \n",
            "[[0.70844431 0.98713936 0.34870874 0.86429703]\n",
            " [0.67552824 0.93746696 0.32957976 0.81730147]\n",
            " [0.94576025 1.30938579 0.45904109 1.13868547]]\n"
          ],
          "name": "stdout"
        }
      ]
    },
    {
      "cell_type": "markdown",
      "metadata": {
        "id": "chZiYocjSNP5",
        "colab_type": "text"
      },
      "source": [
        "We will use the library 'time' to measure the start and end time of the multiplication. The difference between the end time and start time gives the total running time in seconds of the operation. The snipet below will compare the running time of the different implementations. "
      ]
    },
    {
      "cell_type": "code",
      "metadata": {
        "id": "mSXw1uUOSNP7",
        "colab_type": "code",
        "colab": {
          "base_uri": "https://localhost:8080/",
          "height": 71
        },
        "outputId": "df6e91e7-0da1-48e7-e8f7-645dde8bb2c5"
      },
      "source": [
        "time_start = time.time()\n",
        "C = A.dot(B)\n",
        "time_end = time.time()\n",
        "print('Time function built-in function: %.6f seconds'% (time_end - time_start))\n",
        "\n",
        "time_start = time.time()\n",
        "C_ = multiply_matrices(A, B)\n",
        "time_end = time.time()\n",
        "print('Time function multiply_matrices: %.6f seconds'% (time_end - time_start))\n",
        "\n",
        "time_start = time.time()\n",
        "C__ = multiply_matrices_vectorized(A, B)\n",
        "time_end = time.time()\n",
        "print('Time function multiply_matrices_vectorized: %.6f seconds'% (time_end - time_start))"
      ],
      "execution_count": null,
      "outputs": [
        {
          "output_type": "stream",
          "text": [
            "Time function built-in function: 0.000083 seconds\n",
            "Time function multiply_matrices: 0.000103 seconds\n",
            "Time function multiply_matrices_vectorized: 0.000395 seconds\n"
          ],
          "name": "stdout"
        }
      ]
    },
    {
      "cell_type": "markdown",
      "metadata": {
        "id": "rL6k9ROJSNQF",
        "colab_type": "text"
      },
      "source": [
        "Let's increase the size of the matrices to better distinguish the different implementations. We will now use matrices of shape 300x200 and 200x400. \n",
        "\n",
        "The built-in implementation should be the fastest because it uses a better algorithm than our naïve implementation. We should also notice a major difference in running time between multiply_matrices and multiply_matrices_vectorized. This is due to the vectorization we performed in the latter. \n",
        "\n",
        "The operations with vectors and matrices offered by Numpy are much more efficient than our implementation with a for-loop. That is why, whenever possible, we will prefer to use vectorized implementations of the algorithms in this course. "
      ]
    },
    {
      "cell_type": "code",
      "metadata": {
        "id": "rWmK_azwSNQH",
        "colab_type": "code",
        "colab": {
          "base_uri": "https://localhost:8080/",
          "height": 71
        },
        "outputId": "41f15aea-4c00-427e-9f99-74e6fa8f398a"
      },
      "source": [
        "A = np.random.rand(300, 200)\n",
        "B = np.random.rand(200, 400)\n",
        "\n",
        "time_start = time.time()\n",
        "C = A.dot(B)\n",
        "time_end = time.time()\n",
        "print('Time function built-in function: %.6f seconds'% (time_end - time_start))\n",
        "\n",
        "time_start = time.time()\n",
        "C = multiply_matrices(A, B)\n",
        "time_end = time.time()\n",
        "print('Time function multiply_matrices: %.6f seconds'% (time_end - time_start))\n",
        "\n",
        "time_start = time.time()\n",
        "C = multiply_matrices_vectorized(A, B)\n",
        "time_end = time.time()\n",
        "print('Time function multiply_matrices_vectorized: %.6f seconds'% (time_end - time_start))"
      ],
      "execution_count": null,
      "outputs": [
        {
          "output_type": "stream",
          "text": [
            "Time function built-in function: 0.003119 seconds\n",
            "Time function multiply_matrices: 26.269309 seconds\n",
            "Time function multiply_matrices_vectorized: 0.993343 seconds\n"
          ],
          "name": "stdout"
        }
      ]
    },
    {
      "cell_type": "markdown",
      "metadata": {
        "id": "I0EMdSFNSNQT",
        "colab_type": "text"
      },
      "source": [
        "The next snipet creates a set of squared matrices of different sizes. Finish the implementation so that we invoke multiply_matrices and multiply_matrices_vectorized on all pairs of matrices (i.e., we will compute matrices_A[i] * matrices_B[i] for all i). The running time of both functions for all pairs should be stored in the lists time_multiply_matrices and time_multiply_matrices_vectorized. \n",
        "\n",
        "Use matplotlib to plot the running time of the two functions for the set of pairs of matrices. The x-axis should be labelled 'Size of the Matrices' and the y-axis should be labelled 'Running Time (seconds)'. Plot one line for each list (time_multiply_matrices and time_multiply_matrices_vectorized). "
      ]
    },
    {
      "cell_type": "code",
      "metadata": {
        "id": "geOa_ystSNQW",
        "colab_type": "code",
        "colab": {}
      },
      "source": [
        "matrices_A = [np.random.rand(i, i) for i in range(1, 500, 100)]\n",
        "matrices_B = [np.random.rand(i, i) for i in range(1, 500, 100)]\n",
        "\n",
        "time_multiply_matrices = []\n",
        "time_multiply_matrices_vectorized = []\n",
        "for i in range(len(matrices_A)):\n",
        "  time_start = time.time()\n",
        "  multiply_matrices(matrices_A[i],matrices_B[i])\n",
        "  time_end = time.time()\n",
        "  time_multiply_matrices += [time_end-time_start]\n",
        "\n",
        "for i in range(len(matrices_B)):\n",
        "  time_start = time.time()\n",
        "  multiply_matrices_vectorized(matrices_A[i],matrices_B[i])\n",
        "  time_end = time.time()\n",
        "  time_multiply_matrices_vectorized += [time_end-time_start]\n",
        "\n",
        "# complete implementation\n"
      ],
      "execution_count": null,
      "outputs": []
    },
    {
      "cell_type": "code",
      "metadata": {
        "id": "vo_B66FWSNQg",
        "colab_type": "code",
        "colab": {
          "base_uri": "https://localhost:8080/",
          "height": 313
        },
        "outputId": "5de26a3c-a646-4432-91d1-5967bb33dfbb"
      },
      "source": [
        "import matplotlib.pyplot as plt\n",
        "\n",
        "plt.plot(time_multiply_matrices)\n",
        "plt.plot(time_multiply_matrices_vectorized)\n",
        "plt.xlabel('Matrices Size')\n",
        "plt.ylabel('Running Time (seconds)')\n",
        "plt.title('Vectorized vs. Non-Vectorized Matrix Multiplication')\n",
        "plt.legend(['Non-Vectorized', 'Vectorized'])"
      ],
      "execution_count": null,
      "outputs": [
        {
          "output_type": "execute_result",
          "data": {
            "text/plain": [
              "<matplotlib.legend.Legend at 0x7fec551d0588>"
            ]
          },
          "metadata": {
            "tags": []
          },
          "execution_count": 8
        },
        {
          "output_type": "display_data",
          "data": {
            "image/png": "[encoded data removed]",
            "text/plain": [
              "<Figure size 432x288 with 1 Axes>"
            ]
          },
          "metadata": {
            "tags": [],
            "needs_background": "light"
          }
        }
      ]
    }
  ]
}