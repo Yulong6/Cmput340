{
  "nbformat": 4,
  "nbformat_minor": 0,
  "metadata": {
    "kernelspec": {
      "display_name": "Python 3",
      "language": "python",
      "name": "python3"
    },
    "language_info": {
      "codemirror_mode": {
        "name": "ipython",
        "version": 3
      },
      "file_extension": ".py",
      "mimetype": "text/x-python",
      "name": "python",
      "nbconvert_exporter": "python",
      "pygments_lexer": "ipython3",
      "version": "3.7.2"
    },
    "colab": {
      "name": "Lab2-LU-Factorization.ipynb",
      "provenance": [],
      "collapsed_sections": []
    }
  },
  "cells": [
    {
      "cell_type": "markdown",
      "metadata": {
        "id": "6CaRdIf_xd6i",
        "colab_type": "text"
      },
      "source": [
        "<h2>Lab 2: LU Factorization</h2>\n",
        "<b>Demo Date: </b> Sept. 22 <br>\n",
        "<b>Due Date: </b> Sept. 25\n",
        "\n",
        "In this lab you will implement two versions of the LU Factorization algorithm: the one presented in the pseudocode of the textbook and another that uses Numpy operations with matrices. We will then compare the performance of the two implementations on artificial problems. Here we will assume that the linear system has a single solution and that pivoting isn't needed (we will study pivoting in our Tuesday lecture).\n",
        "\n",
        "In class we discussed how the matrix $A$ of a linear system $Ax = b$ can be decomposed into a lower triangular matrix $L$ and an upper triangular matrix $U$. i.e., $A = LU$. The decomposition allows us to write the original system as $LUx = b$. Then, we make $y = Ux$ and solve the system $Ly = b$ with an algorithm called forward-substitution. The solution $y$ is then be used to discover the solution to the original problem, by making $Ux = y$ and solving this system with the back-substitution algorithm. \n",
        "\n",
        "In class we studied the back-substitution algorithm, which is very similar to the forward-substitution algorithm. Back-substitution solves systems whose matrix A is an upper triangular matrix, while forward-substitution solves systems whose matrix A is a lower triangular matrix. \n",
        "\n",
        "Before moving forward, please take a look at the pseudocode of the forward and back-substitution algorithms in the textbook (see Algorithm 2.1 on page 64 and Algorithm 2.2 on page 65). If you understand the forward and back-substitution algorithms, then please go ahead and study the pseudocode of the LU-factorization (see Algorithm 2.3 on page 68 of the textbook). \n",
        "\n",
        "Let's now implement these three algorithms to solve the system used as example in class. \n",
        "\n",
        "\\begin{align*}\n",
        "Ax = \\begin{bmatrix}\n",
        "1 & 2 & 2 \\\\\n",
        "4 & 4 & 2 \\\\\n",
        "4 & 6 & 4 \\\\\n",
        "\\end{bmatrix}\n",
        "\\begin{bmatrix}\n",
        "x_1 \\\\\n",
        "x_2 \\\\\n",
        "x_3 \\\\\n",
        "\\end{bmatrix} = \n",
        "\\begin{bmatrix}\n",
        "3 \\\\\n",
        "6 \\\\\n",
        "10 \\\\\n",
        "\\end{bmatrix} = b\n",
        "\\end{align*}"
      ]
    },
    {
      "cell_type": "code",
      "metadata": {
        "id": "vISWONpHxd6j",
        "colab_type": "code",
        "colab": {}
      },
      "source": [
        "import numpy as np\n",
        "import time\n",
        "import copy\n",
        "import scipy.linalg\n",
        "\n",
        "A = np.array([[1, 2, 2], [4, 4, 2], [4, 6, 4]])\n",
        "b = np.array([3, 6, 10]).reshape(3, 1)"
      ],
      "execution_count": null,
      "outputs": []
    },
    {
      "cell_type": "markdown",
      "metadata": {
        "id": "GctFvb87xd6n",
        "colab_type": "text"
      },
      "source": [
        "Finish the implementation of the algorithms below. The implementation of these algorithms should follow the pseudocode of the textbook. \n",
        "\n",
        "The output should be $x = [-1, 3, -1]^T$"
      ]
    },
    {
      "cell_type": "code",
      "metadata": {
        "id": "-OT8OfqWxd6n",
        "colab_type": "code",
        "colab": {
          "base_uri": "https://localhost:8080/",
          "height": 35
        },
        "outputId": "776c89ec-0b1c-41b2-906b-89b7bf1eaaac"
      },
      "source": [
        "def forward_substituion(L, b):\n",
        "  y=np.zeros(n)\n",
        "  for j in range(0,n):\n",
        "    if(L[j,j]==0):\n",
        "      break\n",
        "    y[j]=b[j]/L[j,j]\n",
        "    for i in range(j,n):  \n",
        "      b[i]=b[i]- L[i,j] * y[j]\n",
        "#  print(\"y is \",y)\n",
        " # print(\"b is \",b)\n",
        "  return y\n",
        "\n",
        "  \n",
        "def back_substituion(U, b):\n",
        "  x=np.zeros(n)\n",
        "  for j in range(n-1,-1,-1): \n",
        "    if (U[j,j]==0):\n",
        "      break\n",
        "    x[j]=b[j]/U[j,j]\n",
        "    for i in range(0,j):\n",
        "      b[i]=b[i]-U[i,j]*x[j]\n",
        "  return x\n",
        "\n",
        "\n",
        "\n",
        "def lu_factor_v1(A):\n",
        "  n=len(A)\n",
        "  m=np.zeros((n,n))\n",
        "  for k in range(0,n):\n",
        "    if A[k][k]==0:\n",
        "      break\n",
        "    for i in range(k,n):\n",
        "      m[i,k]=A[i,k]/A[k,k]\n",
        "    for j in range(k,n):\n",
        "      for i in range(k+1,n):\n",
        "        A[i,j]= A[i,j] - m[i,k]*A[k,j]\n",
        " #       q+=1\n",
        "    #    print(A)\n",
        "  #  print('q is:',q)\n",
        " # print(\"the A is\",A)\n",
        " # print(\"the m is\",m)\n",
        "  return m,A\n",
        "  \n",
        "\n",
        "n = len(b)\n",
        "A1 = copy.deepcopy(A)\n",
        "b1 = copy.deepcopy(b)\n",
        "\n",
        "L, U = lu_factor_v1(A1)\n",
        "y = forward_substituion(L, b1)\n",
        "x = back_substituion(U, y)\n",
        "\n",
        "print('x: ', x)"
      ],
      "execution_count": null,
      "outputs": [
        {
          "output_type": "stream",
          "text": [
            "x:  [-1.  3. -1.]\n"
          ],
          "name": "stdout"
        }
      ]
    },
    {
      "cell_type": "markdown",
      "metadata": {
        "id": "Wbjg-hszxd6q",
        "colab_type": "text"
      },
      "source": [
        "Next, we will write a vectorized implementation of the LU factorization. For that you will modify your previous implementation. The only for-loop you will keep in the vectorized implementation is the outer loop of the non-vectorized implementation, the one that iterates over the $k-1$ columns of $A$. You should rely on numpy functions to rewrite the code."
      ]
    },
    {
      "cell_type": "code",
      "metadata": {
        "id": "ZzfeTuy0xd6r",
        "colab_type": "code",
        "colab": {
          "base_uri": "https://localhost:8080/",
          "height": 35
        },
        "outputId": "dc896fad-1c84-4ea2-e70f-d5d389121319"
      },
      "source": [
        "def lu_factor_v2(A):\n",
        "  n=len(A)\n",
        "  l=np.identity(n)  \n",
        "  u=np.zeros((n,n))\n",
        "  u=A\n",
        "  for k in range(0,n-1):\n",
        "    if A[k,k]==0:\n",
        "      break\n",
        "    l[k+1:n,k] = A[k+1:n,k]/A[k,k]\n",
        "    u[k+1:n,k+1:n] = u[k+1:n,k+1:n] - l[k+1:n,k]*u[k,k+1:n]\n",
        "\n",
        "  return l,u\n",
        "\n",
        "    \n",
        "L, U = lu_factor_v2(copy.deepcopy(A))\n",
        "y = forward_substituion(L, copy.deepcopy(b))\n",
        "x = back_substituion(U, y)\n",
        "print('x: ', x)"
      ],
      "execution_count": null,
      "outputs": [
        {
          "output_type": "stream",
          "text": [
            "x:  [-1.  3. -1.]\n"
          ],
          "name": "stdout"
        }
      ]
    },
    {
      "cell_type": "markdown",
      "metadata": {
        "id": "LAC5DqIyxd6u",
        "colab_type": "text"
      },
      "source": [
        "In the following snippet we will compare the running time of the vectorized and non-vectorized implementation by performing the LU-factorization on larger $200 \\times 200$ matrices. "
      ]
    },
    {
      "cell_type": "code",
      "metadata": {
        "id": "NrlKURNqxd6u",
        "colab_type": "code",
        "colab": {
          "base_uri": "https://localhost:8080/",
          "height": 53
        },
        "outputId": "670f2dca-25a7-49a5-816f-805f151b8815"
      },
      "source": [
        "running_time_vectorized = []\n",
        "running_time_non_vectorized = []\n",
        "\n",
        "for _ in range(10):\n",
        "    test_A = np.tril(np.random.rand(200, 200))\n",
        "    \n",
        "    A = copy.deepcopy(test_A)\n",
        "    start = time.time()\n",
        "    L, U = lu_factor_v1(A)\n",
        "    end = time.time()\n",
        "    running_time_non_vectorized.append(end - start)\n",
        "    \n",
        "    A = copy.deepcopy(test_A)\n",
        "    start = time.time()\n",
        "    L, U = lu_factor_v2(A)\n",
        "    end = time.time()\n",
        "    running_time_vectorized.append(end - start)\n",
        "\n",
        "print('Non-Vectorized: %.4f seconds' % np.average(running_time_non_vectorized))\n",
        "print('Vectorized: %.4f seconds' % np.average(running_time_vectorized))"
      ],
      "execution_count": null,
      "outputs": [
        {
          "output_type": "stream",
          "text": [
            "Non-Vectorized: 2.2112 seconds\n",
            "Vectorized: 0.0078 seconds\n"
          ],
          "name": "stdout"
        }
      ]
    }
  ]
}